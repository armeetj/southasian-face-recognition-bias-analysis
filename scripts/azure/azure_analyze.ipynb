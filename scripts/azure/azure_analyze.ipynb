{
 "metadata": {
  "language_info": {
   "codemirror_mode": {
    "name": "ipython",
    "version": 3
   },
   "file_extension": ".py",
   "mimetype": "text/x-python",
   "name": "python",
   "nbconvert_exporter": "python",
   "pygments_lexer": "ipython3",
   "version": "3.8.8-final"
  },
  "orig_nbformat": 2,
  "kernelspec": {
   "name": "python3",
   "display_name": "Python 3.8.8 64-bit",
   "metadata": {
    "interpreter": {
     "hash": "ddc380b6bbecfaea9d5cd24f89f1065844ebcfee13ecbe37ea0e1b626724e139"
    }
   }
  }
 },
 "nbformat": 4,
 "nbformat_minor": 2,
 "cells": [
  {
   "cell_type": "code",
   "execution_count": 1,
   "metadata": {},
   "outputs": [],
   "source": [
    "# imports\n",
    "import os\n",
    "import json\n",
    "from tqdm import tqdm\n",
    "import cv2\n",
    "import requests \n",
    "import json \n",
    "import base64"
   ]
  },
  {
   "cell_type": "code",
   "execution_count": null,
   "metadata": {},
   "outputs": [],
   "source": [
    "endpoint = \"westus.api.cognitive.microsoft.com/face/v1.0/detect\"\r\n",
    "\r\n",
    "def run_for_one(filepath, pretty_json):\r\n",
    "    in_file = open(filepath, \"rb\")\r\n",
    "\r\n",
    "    # prepare r_data\r\n",
    "    r_data = {}\r\n",
    "    r_data[\"returnFaceLandmarks\"] = True\r\n",
    "    r_data[\"returnFaceAttributes\"] = \"age, gender, headPose, smile, facialHair, glasses, emotion, hair, makeup, occlusion, accessories, blur, exposure, noise, mask\"\r\n",
    "    \r\n",
    "    # prepare r_file\r\n",
    "    r_file = dict(image_file = in_file.read())\r\n",
    "\r\n",
    "    # make POST req\r\n",
    "    r = requests.post(req_url, data=r_data, files = r_file)\r\n",
    "\r\n",
    "    if(pretty_json):\r\n",
    "        return (json.dumps(r.json(), indent = 4))\r\n",
    "    else:\r\n",
    "        return (json.dumps(r.json()))\r\n",
    "    # close all files\r\n",
    "    in_file.close()"
   ]
  }
 ]
}