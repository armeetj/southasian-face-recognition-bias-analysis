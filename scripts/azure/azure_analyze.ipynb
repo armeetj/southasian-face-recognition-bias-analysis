{
 "metadata": {
  "language_info": {
   "codemirror_mode": {
    "name": "ipython",
    "version": 3
   },
   "file_extension": ".py",
   "mimetype": "text/x-python",
   "name": "python",
   "nbconvert_exporter": "python",
   "pygments_lexer": "ipython3",
   "version": "3.7.4"
  },
  "orig_nbformat": 2,
  "kernelspec": {
   "name": "python3",
   "display_name": "Python 3.7.4 64-bit ('base': conda)"
  },
  "interpreter": {
   "hash": "b3ba2566441a7c06988d0923437866b63cedc61552a5af99d1f4fb67d367b25f"
  }
 },
 "nbformat": 4,
 "nbformat_minor": 2,
 "cells": [
  {
   "cell_type": "code",
   "execution_count": 1,
   "source": [
    "# imports\r\n",
    "import os\r\n",
    "import json\r\n",
    "from tqdm import tqdm\r\n",
    "import cv2\r\n",
    "import requests \r\n",
    "import json \r\n",
    "import base64"
   ],
   "outputs": [],
   "metadata": {}
  },
  {
   "cell_type": "code",
   "execution_count": 3,
   "source": [
    "KEY = input(\"Enter Azure Key: \")"
   ],
   "outputs": [],
   "metadata": {}
  },
  {
   "cell_type": "code",
   "execution_count": 21,
   "source": [
    "r_url = \"https://westus.api.cognitive.microsoft.com/face/v1.0/detect?returnFaceId=true&returnFaceLandmarks=true&returnFaceAttributes=accessories,age,blur,emotion,exposure,facialhair,gender,glasses,hair,headpose,makeup,noise,occlusion,smile\"\r\n",
    "\r\n",
    "def run_for_one(filepath, pretty_json):\r\n",
    "    in_file = open(filepath, \"rb\")\r\n",
    "\r\n",
    "    # prepare r_file\r\n",
    "    r_body = (in_file.read())\r\n",
    "\r\n",
    "    r_headers = {\r\n",
    "        \"content-type\": \"application/octet-stream\",\r\n",
    "        \"Ocp-Apim-Subscription-Key\": KEY,\r\n",
    "    }\r\n",
    "    \r\n",
    "    # make POST req\r\n",
    "    r = requests.post(r_url, data = r_body, headers = r_headers)\r\n",
    "\r\n",
    "    if(pretty_json):\r\n",
    "        # print(json.dumps(r.json(), indent = 4))\r\n",
    "        return (json.dumps(r.json(), indent = 4))\r\n",
    "    else: \r\n",
    "        return (json.dumps(r.json()))\r\n",
    "    # close all files\r\n",
    "    in_file.close()"
   ],
   "outputs": [],
   "metadata": {}
  },
  {
   "cell_type": "code",
   "execution_count": 33,
   "source": [
    "def run(directory, pretty_json):\r\n",
    "    for filepath in tqdm(os.listdir(directory)):\r\n",
    "        in_filepath = directory + \"/\" + filepath\r\n",
    "        out_filepath = directory.replace(\"in\", \"out\") + \"/json/\"  + (filepath.replace(\"in\", \"out\").replace(\".png\", \".json\"))\r\n",
    "        # print(in_filepath)\r\n",
    "        # print(out_filepath)\r\n",
    "        r = run_for_one(in_filepath, True);\r\n",
    "        out_file = open(out_filepath, \"w\")\r\n",
    "        if(pretty_json):\r\n",
    "            out_file.write(r)\r\n",
    "        else: \r\n",
    "            out_file.write(json.dumps(r))\r\n",
    "        # close all files\r\n",
    "        # in_file.close()\r\n",
    "        out_file.close()"
   ],
   "outputs": [],
   "metadata": {}
  },
  {
   "cell_type": "code",
   "execution_count": 53,
   "source": [
    "# run_for_one(\"../../data2/3_north_punjab/in/male/male_in_0.png\", True)\r\n",
    "run(\"../../data2/8_west_gujrat/in/male\", True)\r\n"
   ],
   "outputs": [
    {
     "output_type": "stream",
     "name": "stderr",
     "text": [
      "100%|██████████| 100/100 [00:45<00:00,  2.20it/s]\n"
     ]
    }
   ],
   "metadata": {
    "tags": []
   }
  },
  {
   "cell_type": "code",
   "execution_count": 54,
   "source": [
    "run(\"../../data2/8_west_gujrat/in/female\", True)\r\n"
   ],
   "outputs": [
    {
     "output_type": "stream",
     "name": "stderr",
     "text": [
      "100%|██████████| 100/100 [00:42<00:00,  2.34it/s]\n"
     ]
    }
   ],
   "metadata": {}
  }
 ]
}